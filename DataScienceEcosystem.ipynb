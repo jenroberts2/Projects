{
 "cells": [
  {
   "cell_type": "markdown",
   "id": "3ae4388e-7dd4-4031-9d91-7cfccc94ab3f",
   "metadata": {},
   "source": [
    "<H1> Data Science Tools and Ecosystem"
   ]
  },
  {
   "cell_type": "markdown",
   "id": "7d8cd8c1-9757-45a5-9a22-c728ad1d75bb",
   "metadata": {},
   "source": [
    "In this notebook, Data Science Tools and Ecosystem are summarized."
   ]
  },
  {
   "cell_type": "markdown",
   "id": "b9908a7d-54ef-4206-8f4d-f87e6f959989",
   "metadata": {},
   "source": [
    "Some of the popular languages that Data Scientists use are:\n",
    "1. python\n",
    "2. R\n",
    "3. Julia"
   ]
  },
  {
   "cell_type": "markdown",
   "id": "10cad7cf-b3c1-466f-a099-889ac35f5bfa",
   "metadata": {},
   "source": [
    "Some of the commonly used libraries used by Data Scientists include:\n",
    "* ggplot2\n",
    "* Matplotlib\n",
    "* Pandas"
   ]
  },
  {
   "cell_type": "markdown",
   "id": "9a7a3c6a-7b88-47a1-b1a0-14830b047a74",
   "metadata": {},
   "source": [
    "| Data Science Tools |\n",
    "|:------------------:|\n",
    "|GitHub              |\n",
    "|Apache Spark        |\n",
    "|TensorFlow          |\n"
   ]
  },
  {
   "cell_type": "markdown",
   "id": "cbff7b16-c761-4345-baff-c1745549ddfe",
   "metadata": {},
   "source": [
    "Below are a few examples of evaluating arithmetic expressions in Python"
   ]
  },
  {
   "cell_type": "code",
   "execution_count": 2,
   "id": "491fb7c2-bc8d-414c-b645-ed889f3dc356",
   "metadata": {
    "tags": []
   },
   "outputs": [
    {
     "name": "stdout",
     "output_type": "stream",
     "text": [
      "4\n",
      "4\n",
      "0\n"
     ]
    }
   ],
   "source": [
    "a = 2+2\n",
    "print(a)\n",
    "b = 2*2\n",
    "print(b)\n",
    "c = 2-2\n",
    "print(c)\n"
   ]
  },
  {
   "cell_type": "code",
   "execution_count": 4,
   "id": "99fdc70b-3513-464b-bf8d-92cb4aeff0e7",
   "metadata": {
    "tags": []
   },
   "outputs": [
    {
     "data": {
      "text/plain": [
       "17"
      ]
     },
     "execution_count": 4,
     "metadata": {},
     "output_type": "execute_result"
    }
   ],
   "source": [
    "# This a simple arithmetic expression to mutiply then add integers\n",
    "(3*4)+5"
   ]
  },
  {
   "cell_type": "code",
   "execution_count": 13,
   "id": "92435074-c9d9-4eed-a0e8-44cc1c776a41",
   "metadata": {
    "tags": []
   },
   "outputs": [
    {
     "name": "stdout",
     "output_type": "stream",
     "text": [
      "3.3333333333333335 hours\n"
     ]
    }
   ],
   "source": [
    "# This will convert 200 minutes to hours by diving by 60\n",
    "mins_to_hours = 200 / 60\n",
    "print(mins_to_hours,'hours')"
   ]
  },
  {
   "cell_type": "markdown",
   "id": "857390cd-c0d8-4342-add6-98be6e7a4672",
   "metadata": {},
   "source": [
    "# Objectives:\n",
    "    . List popular languages for Data Science\n",
    "    . List commonly used libraries used by Data Scientists\n",
    "    . Examples of evaluating arithmetic expressions in Python"
   ]
  },
  {
   "cell_type": "markdown",
   "id": "9cb1104c-9587-44fd-860f-4bb4b1507906",
   "metadata": {},
   "source": [
    "<H2> Author\n",
    "\n",
    "\n",
    "Jen Roberts"
   ]
  }
 ],
 "metadata": {
  "kernelspec": {
   "display_name": "Python",
   "language": "python",
   "name": "conda-env-python-py"
  },
  "language_info": {
   "codemirror_mode": {
    "name": "ipython",
    "version": 3
   },
   "file_extension": ".py",
   "mimetype": "text/x-python",
   "name": "python",
   "nbconvert_exporter": "python",
   "pygments_lexer": "ipython3",
   "version": "3.7.12"
  }
 },
 "nbformat": 4,
 "nbformat_minor": 5
}
